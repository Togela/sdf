{
 "cells": [
  {
   "cell_type": "markdown",
   "id": "10375de8-6f2d-462c-a0d7-f5a764cbdb32",
   "metadata": {},
   "source": [
    "# Examples"
   ]
  },
  {
   "cell_type": "code",
   "execution_count": null,
   "id": "0f3f2ab8-d214-4f0b-823d-f1715e86843b",
   "metadata": {},
   "outputs": [],
   "source": [
    "import sys\n",
    "\n",
    "sys.path.insert(0, \"..\")\n",
    "\n",
    "from sdf import *"
   ]
  },
  {
   "cell_type": "code",
   "execution_count": null,
   "id": "cace8633-8cfa-4ae6-814e-1bc636fbfb71",
   "metadata": {},
   "outputs": [],
   "source": [
    "import pyvista as pv\n",
    "\n",
    "pv.set_jupyter_backend(\"server\")"
   ]
  },
  {
   "cell_type": "code",
   "execution_count": null,
   "id": "9895c318-7a9e-4754-90a4-0f2cba2d1653",
   "metadata": {},
   "outputs": [],
   "source": [
    "sphere(10).stretch(ORIGIN, 20 * Z).save(screenshot=\"../docs/images/stretch.png\")"
   ]
  },
  {
   "cell_type": "code",
   "execution_count": null,
   "id": "ac84414e-0e81-4bd9-870f-28dda48538f7",
   "metadata": {},
   "outputs": [],
   "source": [
    "box([20, 10, 50]).shear(-15 * Z, 15 * Z, -10 * X, e=ease.smoothstep).save(\n",
    "    screenshot=\"../docs/images/shear-smooth.png\"\n",
    ")"
   ]
  },
  {
   "cell_type": "code",
   "execution_count": null,
   "id": "0efa22c4-5c8e-4df1-b5ee-8d6d726dfcca",
   "metadata": {},
   "outputs": [],
   "source": [
    "box([20, 10, 50]).shear(\n",
    "    fix=-15 * Z, grab=15 * Z, move=-5 * X, e=ease.smoothstep.symmetric\n",
    ").save(screenshot=\"../docs/images/shear-notch.png\")"
   ]
  },
  {
   "cell_type": "code",
   "execution_count": null,
   "id": "d5acfefb-f357-4d85-bd51-e4c54678630e",
   "metadata": {},
   "outputs": [],
   "source": [
    "import matplotlib.pyplot as plt\n",
    "\n",
    "plt.rcParams[\"legend.fontsize\"] = \"small\"\n",
    "plt.rcParams[\"figure.figsize\"] = (8, 6)\n",
    "fig, ax = plt.subplots()\n",
    "ease.Easing.plot(\n",
    "    ease.linear,\n",
    "    ease.smoothstep,\n",
    "    ease.smoothstep.chain(),\n",
    "    0.5 * ease.in_out_cubic.reverse,\n",
    "    ease.out_elastic.symmetric,\n",
    "    ease.smoothstep.symmetric,\n",
    "    ease.smoothstep.between(-0.5, 1),\n",
    "    ease.smoothstep[0.1:0.75] - 3 * ease.linear + ease.smoothstep,\n",
    "    ax=ax,\n",
    ")\n",
    "fig.savefig(\"../docs/images/easings.png\")"
   ]
  },
  {
   "cell_type": "code",
   "execution_count": null,
   "id": "a6b37f46-2372-45a9-be9b-67abf5893c33",
   "metadata": {},
   "outputs": [],
   "source": []
  }
 ],
 "metadata": {
  "kernelspec": {
   "display_name": "Python 3 (ipykernel)",
   "language": "python",
   "name": "python3"
  },
  "language_info": {
   "codemirror_mode": {
    "name": "ipython",
    "version": 3
   },
   "file_extension": ".py",
   "mimetype": "text/x-python",
   "name": "python",
   "nbconvert_exporter": "python",
   "pygments_lexer": "ipython3",
   "version": "3.11.5"
  }
 },
 "nbformat": 4,
 "nbformat_minor": 5
}
