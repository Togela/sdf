{
 "cells": [
  {
   "cell_type": "code",
   "execution_count": null,
   "id": "f28c8737-7ca4-46d7-a7b5-5f100a2820a9",
   "metadata": {
    "tags": []
   },
   "outputs": [],
   "source": [
    "import numpy as np\n",
    "\n",
    "from sdf import *"
   ]
  },
  {
   "cell_type": "code",
   "execution_count": null,
   "id": "ffd92c3a-f08a-4d0e-87f9-d0bf3947bc2b",
   "metadata": {
    "tags": []
   },
   "outputs": [],
   "source": [
    "octopus = capsule(ORIGIN, 30 * Z, radius=30)\n",
    "tentacles = union(\n",
    "    *[\n",
    "        bezier(\n",
    "            ORIGIN,\n",
    "            -np.random.uniform(20, 40) * Z,\n",
    "            np.random.uniform(20, 50) * X + np.random.uniform(20, 50) * Y,\n",
    "            -np.random.uniform(60, 80) * Z\n",
    "            + np.random.uniform(20, 40) * X\n",
    "            + np.random.uniform(20, 40) * Y,\n",
    "            radius=ease.in_out_cubic.reverse.between(10, 3),\n",
    "        )\n",
    "        .translate(10 * (X + Y))\n",
    "        .rotate(units(\"360°\") / 8 * i, Z)\n",
    "        for i in range(8)\n",
    "    ]\n",
    ")\n",
    "octopus |= tentacles.k(10)\n",
    "mouth = torus(10, 3).orient(Y) & slab(z1=-1).k(5)\n",
    "eyes = (e := sphere(5).translate(10 * X)) | e.mirror(-X)\n",
    "octopus -= mouth.translate(30 * Y + 20 * Z).k(3)\n",
    "octopus -= eyes.translate(30 * Y + 30 * Z).k(3)\n",
    "octopus.save(samples=2**20)"
   ]
  },
  {
   "cell_type": "code",
   "execution_count": null,
   "id": "54cc874c-72ca-4948-a1d1-163a45b7c828",
   "metadata": {},
   "outputs": [],
   "source": []
  }
 ],
 "metadata": {
  "kernelspec": {
   "display_name": "Python 3 (ipykernel)",
   "language": "python",
   "name": "python3"
  },
  "language_info": {
   "codemirror_mode": {
    "name": "ipython",
    "version": 3
   },
   "file_extension": ".py",
   "mimetype": "text/x-python",
   "name": "python",
   "nbconvert_exporter": "python",
   "pygments_lexer": "ipython3",
   "version": "3.10.12"
  }
 },
 "nbformat": 4,
 "nbformat_minor": 5
}
