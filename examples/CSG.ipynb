{
 "cells": [
  {
   "cell_type": "code",
   "execution_count": 1,
   "id": "dfae3cdd-99e3-40c5-9b02-7a2dec00459b",
   "metadata": {
    "execution": {
     "iopub.execute_input": "2023-09-25T21:10:40.808834Z",
     "iopub.status.busy": "2023-09-25T21:10:40.808702Z",
     "iopub.status.idle": "2023-09-25T21:10:41.334325Z",
     "shell.execute_reply": "2023-09-25T21:10:41.333632Z",
     "shell.execute_reply.started": "2023-09-25T21:10:40.808817Z"
    }
   },
   "outputs": [],
   "source": [
    "import sys\n",
    "sys.path.insert(0,\"..\")\n",
    "\n",
    "from sdf import *"
   ]
  },
  {
   "cell_type": "code",
   "execution_count": 2,
   "id": "0554dba4-2ce0-4e42-a68d-5b73f3022670",
   "metadata": {
    "execution": {
     "iopub.execute_input": "2023-09-25T21:10:41.335795Z",
     "iopub.status.busy": "2023-09-25T21:10:41.335661Z",
     "iopub.status.idle": "2023-09-25T21:10:41.845281Z",
     "shell.execute_reply": "2023-09-25T21:10:41.844455Z",
     "shell.execute_reply.started": "2023-09-25T21:10:41.335775Z"
    },
    "tags": []
   },
   "outputs": [],
   "source": [
    "import pyvista as pv\n",
    "\n",
    "pv.set_jupyter_backend(\"server\")"
   ]
  },
  {
   "cell_type": "code",
   "execution_count": 3,
   "id": "c33e60d2-c033-4d0d-8c0e-c5b6bd910250",
   "metadata": {
    "execution": {
     "iopub.execute_input": "2023-09-25T21:10:41.846916Z",
     "iopub.status.busy": "2023-09-25T21:10:41.846526Z",
     "iopub.status.idle": "2023-09-25T21:10:43.424659Z",
     "shell.execute_reply": "2023-09-25T21:10:43.424285Z",
     "shell.execute_reply.started": "2023-09-25T21:10:41.846903Z"
    },
    "tags": []
   },
   "outputs": [
    {
     "name": "stdout",
     "output_type": "stream",
     "text": [
      "min -0.84543, -0.84543, -0.84543\n",
      "max 0.845431, 0.845431, 0.845431\n",
      "step 0.0104847, 0.0104847, 0.0104847\n",
      "4657463 samples in 216 batches with 16 workers\n",
      "  100% (216 of 216) [##############################] 0:00:01 0:00:00    \n",
      "44 skipped, 60 empty, 112 nonempty\n",
      "291028 triangles in 1.13089 seconds\n",
      "💾 Saved mesh to 'out.stl'\n",
      "🖼️ Saved screenshot to '../docs/images/csg-canonical.png'\n"
     ]
    },
    {
     "data": {
      "application/vnd.jupyter.widget-view+json": {
       "model_id": "dfae4e76f9d04f4ab523691b82140f6d",
       "version_major": 2,
       "version_minor": 0
      },
      "text/plain": [
       "Widget(value=\"<iframe src='http://localhost:37913/index.html?ui=P_0x7f42d48fee90_0&reconnect=auto' style='widt…"
      ]
     },
     "metadata": {},
     "output_type": "display_data"
    }
   ],
   "source": [
    "f = sphere(1) & box(1.5)\n",
    "\n",
    "c = cylinder(0.5)\n",
    "f -= c.orient(X) | c.orient(Y) | c.orient(Z)\n",
    "\n",
    "f.save(samples=2**22,screenshot=\"../docs/images/csg-canonical.png\")"
   ]
  },
  {
   "cell_type": "code",
   "execution_count": 4,
   "id": "a654110a-2e90-4ccc-8015-b4fc1a3d88e4",
   "metadata": {
    "execution": {
     "iopub.execute_input": "2023-09-25T21:10:43.425275Z",
     "iopub.status.busy": "2023-09-25T21:10:43.425157Z",
     "iopub.status.idle": "2023-09-25T21:10:44.848254Z",
     "shell.execute_reply": "2023-09-25T21:10:44.847892Z",
     "shell.execute_reply.started": "2023-09-25T21:10:43.425263Z"
    },
    "tags": []
   },
   "outputs": [
    {
     "name": "stdout",
     "output_type": "stream",
     "text": [
      "min -0.84543, -0.84543, -0.84543\n",
      "max 0.845431, 0.845431, 0.845431\n",
      "step 0.0104847, 0.0104847, 0.0104847\n",
      "4657463 samples in 216 batches with 16 workers\n",
      "  100% (216 of 216) [##############################] 0:00:01 0:00:00    \n",
      "44 skipped, 60 empty, 112 nonempty\n",
      "289096 triangles in 1.01869 seconds\n",
      "💾 Saved mesh to 'out.stl'\n",
      "🖼️ Saved screenshot to '../docs/images/csg-canonical-smooth.png'\n"
     ]
    },
    {
     "data": {
      "application/vnd.jupyter.widget-view+json": {
       "model_id": "e05802ac42cd4f8e916e572999f4a6fe",
       "version_major": 2,
       "version_minor": 0
      },
      "text/plain": [
       "Widget(value=\"<iframe src='http://localhost:37913/index.html?ui=P_0x7f4233cf1350_1&reconnect=auto' style='widt…"
      ]
     },
     "metadata": {},
     "output_type": "display_data"
    }
   ],
   "source": [
    "f = sphere(1) & box(1.5).k(0.1)\n",
    "\n",
    "c = cylinder(0.5)\n",
    "f -= c.orient(X) | c.orient(Y) | c.orient(Z)\n",
    "\n",
    "f.save(samples=2**22,screenshot=\"../docs/images/csg-canonical-smooth.png\")"
   ]
  }
 ],
 "metadata": {
  "kernelspec": {
   "display_name": "Python 3 (ipykernel)",
   "language": "python",
   "name": "python3"
  },
  "language_info": {
   "codemirror_mode": {
    "name": "ipython",
    "version": 3
   },
   "file_extension": ".py",
   "mimetype": "text/x-python",
   "name": "python",
   "nbconvert_exporter": "python",
   "pygments_lexer": "ipython3",
   "version": "3.11.5"
  },
  "widgets": {
   "application/vnd.jupyter.widget-state+json": {
    "state": {
     "9c0f3cc2b78a4f4d98c0e375e486a282": {
      "model_module": "@jupyter-widgets/controls",
      "model_module_version": "2.0.0",
      "model_name": "HTMLStyleModel",
      "state": {
       "description_width": "",
       "font_size": null,
       "text_color": null
      }
     },
     "9ececceaf04849b58398e387ba8ed3b8": {
      "model_module": "@jupyter-widgets/controls",
      "model_module_version": "2.0.0",
      "model_name": "HTMLStyleModel",
      "state": {
       "description_width": "",
       "font_size": null,
       "text_color": null
      }
     },
     "a7d9033984df4bf786c2110da083d288": {
      "model_module": "@jupyter-widgets/base",
      "model_module_version": "2.0.0",
      "model_name": "LayoutModel",
      "state": {}
     },
     "dfae4e76f9d04f4ab523691b82140f6d": {
      "model_module": "@jupyter-widgets/controls",
      "model_module_version": "2.0.0",
      "model_name": "HTMLModel",
      "state": {
       "layout": "IPY_MODEL_eb5f2c95250945c3b013c1e1020d0039",
       "style": "IPY_MODEL_9ececceaf04849b58398e387ba8ed3b8",
       "value": "<iframe src='http://localhost:37913/index.html?ui=P_0x7f42d48fee90_0&reconnect=auto' style='width: 99%; height: 600px;'></iframe>"
      }
     },
     "e05802ac42cd4f8e916e572999f4a6fe": {
      "model_module": "@jupyter-widgets/controls",
      "model_module_version": "2.0.0",
      "model_name": "HTMLModel",
      "state": {
       "layout": "IPY_MODEL_a7d9033984df4bf786c2110da083d288",
       "style": "IPY_MODEL_9c0f3cc2b78a4f4d98c0e375e486a282",
       "value": "<iframe src='http://localhost:37913/index.html?ui=P_0x7f4233cf1350_1&reconnect=auto' style='width: 99%; height: 600px;'></iframe>"
      }
     },
     "eb5f2c95250945c3b013c1e1020d0039": {
      "model_module": "@jupyter-widgets/base",
      "model_module_version": "2.0.0",
      "model_name": "LayoutModel",
      "state": {}
     }
    },
    "version_major": 2,
    "version_minor": 0
   }
  }
 },
 "nbformat": 4,
 "nbformat_minor": 5
}
