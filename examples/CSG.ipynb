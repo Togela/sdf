{
 "cells": [
  {
   "cell_type": "code",
   "execution_count": null,
   "id": "dfae3cdd-99e3-40c5-9b02-7a2dec00459b",
   "metadata": {},
   "outputs": [],
   "source": [
    "from sdf import *"
   ]
  },
  {
   "cell_type": "code",
   "execution_count": null,
   "id": "0554dba4-2ce0-4e42-a68d-5b73f3022670",
   "metadata": {
    "tags": []
   },
   "outputs": [],
   "source": [
    "import pyvista as pv\n",
    "\n",
    "pv.set_jupyter_backend(\"static\")"
   ]
  },
  {
   "cell_type": "code",
   "execution_count": null,
   "id": "c33e60d2-c033-4d0d-8c0e-c5b6bd910250",
   "metadata": {
    "tags": []
   },
   "outputs": [],
   "source": [
    "csg = sphere(diameter=10)\n",
    "\n",
    "csg -= cylinder(diameter=4).orient(X)\n",
    "csg -= cylinder(diameter=4).orient(Y)\n",
    "csg -= cylinder(diameter=4).orient(Z)\n",
    "\n",
    "csg &= box(8)\n",
    "csg.save(samples=2**24)"
   ]
  },
  {
   "cell_type": "code",
   "execution_count": null,
   "id": "a654110a-2e90-4ccc-8015-b4fc1a3d88e4",
   "metadata": {
    "tags": []
   },
   "outputs": [],
   "source": [
    "csg = sphere(diameter=10)\n",
    "\n",
    "csg -= cylinder(diameter=4).orient(X).k(1)\n",
    "csg -= cylinder(diameter=4).orient(Y).k(1)\n",
    "csg -= cylinder(diameter=4).orient(Z).k(1)\n",
    "\n",
    "csg &= box(8).k(0.5)\n",
    "csg.save()"
   ]
  },
  {
   "cell_type": "code",
   "execution_count": null,
   "id": "b7b222c5-61f4-40ff-96ed-066984d459c0",
   "metadata": {},
   "outputs": [],
   "source": []
  }
 ],
 "metadata": {
  "kernelspec": {
   "display_name": "Python 3 (ipykernel)",
   "language": "python",
   "name": "python3"
  },
  "language_info": {
   "codemirror_mode": {
    "name": "ipython",
    "version": 3
   },
   "file_extension": ".py",
   "mimetype": "text/x-python",
   "name": "python",
   "nbconvert_exporter": "python",
   "pygments_lexer": "ipython3",
   "version": "3.10.12"
  }
 },
 "nbformat": 4,
 "nbformat_minor": 5
}
