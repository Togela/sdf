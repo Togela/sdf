{
 "cells": [
  {
   "cell_type": "code",
   "execution_count": null,
   "id": "dfae3cdd-99e3-40c5-9b02-7a2dec00459b",
   "metadata": {},
   "outputs": [],
   "source": [
    "import sys\n",
    "sys.path.insert(0,\"..\")\n",
    "\n",
    "from sdf import *"
   ]
  },
  {
   "cell_type": "code",
   "execution_count": null,
   "id": "0554dba4-2ce0-4e42-a68d-5b73f3022670",
   "metadata": {
    "tags": []
   },
   "outputs": [],
   "source": [
    "import pyvista as pv\n",
    "\n",
    "pv.set_jupyter_backend(\"server\")"
   ]
  },
  {
   "cell_type": "code",
   "execution_count": null,
   "id": "c33e60d2-c033-4d0d-8c0e-c5b6bd910250",
   "metadata": {
    "tags": []
   },
   "outputs": [],
   "source": [
    "f = sphere(1) & box(1.5)\n",
    "\n",
    "c = cylinder(0.5)\n",
    "f -= c.orient(X) | c.orient(Y) | c.orient(Z)\n",
    "\n",
    "f.save(samples=2**22,screenshot=\"../docs/images/csg-canonical.png\")"
   ]
  },
  {
   "cell_type": "code",
   "execution_count": null,
   "id": "a654110a-2e90-4ccc-8015-b4fc1a3d88e4",
   "metadata": {
    "tags": []
   },
   "outputs": [],
   "source": [
    "f = sphere(1) & box(1.5).k(0.1)\n",
    "\n",
    "c = cylinder(0.5)\n",
    "f -= c.orient(X) | c.orient(Y) | c.orient(Z)\n",
    "\n",
    "f.save(samples=2**22,screenshot=\"../docs/images/csg-canonical-smooth.png\")"
   ]
  }
 ],
 "metadata": {
  "kernelspec": {
   "display_name": "Python 3 (ipykernel)",
   "language": "python",
   "name": "python3"
  },
  "language_info": {
   "codemirror_mode": {
    "name": "ipython",
    "version": 3
   },
   "file_extension": ".py",
   "mimetype": "text/x-python",
   "name": "python",
   "nbconvert_exporter": "python",
   "pygments_lexer": "ipython3",
   "version": "3.11.5"
  }
 },
 "nbformat": 4,
 "nbformat_minor": 5
}
